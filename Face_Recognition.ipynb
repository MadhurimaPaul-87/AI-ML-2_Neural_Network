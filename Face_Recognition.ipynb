{
  "nbformat": 4,
  "nbformat_minor": 0,
  "metadata": {
    "colab": {
      "provenance": []
    },
    "kernelspec": {
      "name": "python3",
      "display_name": "Python 3"
    },
    "language_info": {
      "name": "python"
    }
  },
  "cells": [
    {
      "cell_type": "markdown",
      "source": [
        "**Face Recognition Using CNN Architecture in Python**"
      ],
      "metadata": {
        "id": "Il1hCAq8fpu4"
      }
    },
    {
      "cell_type": "markdown",
      "source": [
        "Convolutional Neural Networks(CNN) has changed the way we used to learn images. CNN mimics the way humans see images, by focussing on one portion of the image at a time and scanning the whole image, this is called covolution operation."
      ],
      "metadata": {
        "id": "E22GXFY3f05G"
      }
    },
    {
      "cell_type": "markdown",
      "source": [
        "CNN boils down every image as a vector of numbers, which can be learned by the fully connected Dense layers of ANN."
      ],
      "metadata": {
        "id": "3npCIAg5f2bO"
      }
    },
    {
      "cell_type": "markdown",
      "source": [
        "**In this perticular case study I will be performing how to implement a face recognition model using CNN. You can use this template to create an image classification model on any group of images by putting them in a folder and creating a class.**"
      ],
      "metadata": {
        "id": "858OmElQgDbm"
      }
    },
    {
      "cell_type": "markdown",
      "source": [
        "**About the Dataset (Images)**"
      ],
      "metadata": {
        "id": "3QZJ49pHgLc_"
      }
    },
    {
      "cell_type": "markdown",
      "source": [
        "The data contains cropped face images of 16 people divided into Training and testing. We will train the CNN model using the images in the Training folder and then test the model by using the unseen images from the testing folder, to check if the model is able to recognise the face number i.e label given to each face during training of the unseen images or not."
      ],
      "metadata": {
        "id": "qJM_3JFCgVku"
      }
    },
    {
      "cell_type": "code",
      "execution_count": 1,
      "metadata": {
        "id": "kdsOsQBBfndS"
      },
      "outputs": [],
      "source": [
        "# import libraries\n",
        "import tensorflow\n",
        "from tensorflow import keras"
      ]
    },
    {
      "cell_type": "markdown",
      "source": [
        "**Image Agumentation with Preprocessing**"
      ],
      "metadata": {
        "id": "R70lnH4Agcc3"
      }
    },
    {
      "cell_type": "code",
      "source": [
        "from google.colab import drive\n",
        "drive.mount('/content/gdrive')"
      ],
      "metadata": {
        "colab": {
          "base_uri": "https://localhost:8080/"
        },
        "id": "r9Wrd7cmgyiP",
        "outputId": "e90a8064-03e1-422d-d0f7-de297844a139"
      },
      "execution_count": 2,
      "outputs": [
        {
          "output_type": "stream",
          "name": "stdout",
          "text": [
            "Mounted at /content/gdrive\n"
          ]
        }
      ]
    },
    {
      "cell_type": "code",
      "source": [
        "train_images = \"/content/drive/MyDrive/Face Images/Final Training Images\"\n"
      ],
      "metadata": {
        "id": "PNJCJl7RgYoU"
      },
      "execution_count": 3,
      "outputs": []
    },
    {
      "cell_type": "code",
      "source": [
        "## Image Preprocessing using keras\n",
        "\n",
        "\n",
        "# As we know deep-learning is hungry for data, the data we have is only limited.\n",
        "# so lets perform **Image Agumentation** to create different versions\n",
        "# of the original image, which leads to a better model, since it learns\n",
        "# on the good and bad mix of images.\n",
        "\n",
        "from tensorflow.keras.preprocessing.image import ImageDataGenerator # create many variations of an image.\n",
        "train_gen = ImageDataGenerator(\n",
        "    shear_range=0.1, #tilting\n",
        "    zoom_range=0.1,\n",
        "    horizontal_flip=True\n",
        ")"
      ],
      "metadata": {
        "id": "NrDf8CI-hev-"
      },
      "execution_count": 5,
      "outputs": []
    },
    {
      "cell_type": "code",
      "source": [
        "# No transformations are made on the test data\n",
        "test_gen = ImageDataGenerator()"
      ],
      "metadata": {
        "id": "RPr4lS7Rhf1C"
      },
      "execution_count": 6,
      "outputs": []
    },
    {
      "cell_type": "code",
      "source": [
        "# Generating training data\n",
        "training_data = train_gen.flow_from_directory(\n",
        "    train_images,\n",
        "    target_size = (100,100),\n",
        "    batch_size = 30,\n",
        "    class_mode = 'categorical'\n",
        ")\n"
      ],
      "metadata": {
        "colab": {
          "base_uri": "https://localhost:8080/"
        },
        "id": "Q9xH8xpkhu1z",
        "outputId": "a8800c4c-d32a-4522-a9e2-9720d74cfa28"
      },
      "execution_count": 7,
      "outputs": [
        {
          "output_type": "stream",
          "name": "stdout",
          "text": [
            "Found 244 images belonging to 16 classes.\n"
          ]
        }
      ]
    },
    {
      "cell_type": "code",
      "source": [
        "# generating test data\n",
        "testing_data = test_gen.flow_from_directory(\n",
        "    train_images,\n",
        "    target_size = (100,100),\n",
        "    batch_size = 30,\n",
        "    class_mode = 'categorical'\n",
        ")\n"
      ],
      "metadata": {
        "colab": {
          "base_uri": "https://localhost:8080/"
        },
        "id": "4wRwGKIZhzFE",
        "outputId": "5f65bd91-c8a3-437a-a766-11287733322c"
      },
      "execution_count": 8,
      "outputs": [
        {
          "output_type": "stream",
          "name": "stdout",
          "text": [
            "Found 244 images belonging to 16 classes.\n"
          ]
        }
      ]
    },
    {
      "cell_type": "code",
      "source": [
        "# Printing class labels for each face\n",
        "testing_data.class_indices"
      ],
      "metadata": {
        "colab": {
          "base_uri": "https://localhost:8080/"
        },
        "id": "e6i4l5rAh4vt",
        "outputId": "a619fab3-796a-4b51-c893-a239b9d9b597"
      },
      "execution_count": 9,
      "outputs": [
        {
          "output_type": "execute_result",
          "data": {
            "text/plain": [
              "{'face1': 0,\n",
              " 'face10': 1,\n",
              " 'face11': 2,\n",
              " 'face12': 3,\n",
              " 'face13': 4,\n",
              " 'face14': 5,\n",
              " 'face15': 6,\n",
              " 'face16': 7,\n",
              " 'face2': 8,\n",
              " 'face3': 9,\n",
              " 'face4': 10,\n",
              " 'face5': 11,\n",
              " 'face6': 12,\n",
              " 'face7': 13,\n",
              " 'face8': 14,\n",
              " 'face9': 15}"
            ]
          },
          "metadata": {},
          "execution_count": 9
        }
      ]
    },
    {
      "cell_type": "markdown",
      "source": [
        "**If you observe, the above dictionary is having keys as face_names and values as numbers. We need to swap them because the classifier model will return the answer as the numeric mapping and we need to get the face_name out of it.**"
      ],
      "metadata": {
        "id": "stNuvpgsi4S1"
      }
    },
    {
      "cell_type": "markdown",
      "source": [
        "Also, since this is a multi-class classification problem, we are counting the number of unique faces, as that will be used as the number of output neurons in the output layer of fully connected ANN classifier."
      ],
      "metadata": {
        "id": "6hE6bLjjjCAN"
      }
    },
    {
      "cell_type": "markdown",
      "source": [
        "**Mapping of class_labels with numeric value for classification**"
      ],
      "metadata": {
        "id": "geV3qAq0jFx9"
      }
    },
    {
      "cell_type": "code",
      "source": [
        "# training_data have numeric tag for each face\n",
        "Train_class = training_data.class_indices\n",
        "\n",
        "# lets store them in a dictionary with swap for future reference\n",
        "Result_class = {}\n",
        "for value_tag, face_tag in zip(Train_class.values(),Train_class.keys()):\n",
        "    Result_class[value_tag] = face_tag\n",
        "\n",
        "\n",
        "# use pickle to save the mapping's\n",
        "import pickle\n",
        "with open('/content/drive/MyDrive/Face Images/FinalMap.pkl','wb') as Final_mapping:\n",
        "    pickle.dump(Result_class,Final_mapping)"
      ],
      "metadata": {
        "id": "T403u9rah8OQ"
      },
      "execution_count": 10,
      "outputs": []
    },
    {
      "cell_type": "code",
      "source": [
        "print(\"Mapping of Face and its numeric value\",Result_class)"
      ],
      "metadata": {
        "colab": {
          "base_uri": "https://localhost:8080/"
        },
        "id": "U_nNQFVuj0uV",
        "outputId": "3b9f650b-00be-4bc8-e3c1-ee9fc1573b4c"
      },
      "execution_count": 11,
      "outputs": [
        {
          "output_type": "stream",
          "name": "stdout",
          "text": [
            "Mapping of Face and its numeric value {0: 'face1', 1: 'face10', 2: 'face11', 3: 'face12', 4: 'face13', 5: 'face14', 6: 'face15', 7: 'face16', 8: 'face2', 9: 'face3', 10: 'face4', 11: 'face5', 12: 'face6', 13: 'face7', 14: 'face8', 15: 'face9'}\n"
          ]
        }
      ]
    },
    {
      "cell_type": "code",
      "source": [
        "Output_Neurons=len(Result_class)\n",
        "print('\\n The Number of output neurons: ', Output_Neurons)"
      ],
      "metadata": {
        "colab": {
          "base_uri": "https://localhost:8080/"
        },
        "id": "7m4uy5nwj690",
        "outputId": "774db4b7-ef52-49aa-dd33-d786dd85f013"
      },
      "execution_count": 12,
      "outputs": [
        {
          "output_type": "stream",
          "name": "stdout",
          "text": [
            "\n",
            " The Number of output neurons:  16\n"
          ]
        }
      ]
    },
    {
      "cell_type": "markdown",
      "source": [
        "**Building the CNN Architecture, Model Compilation and Training**"
      ],
      "metadata": {
        "id": "Pxmy0UmKkArU"
      }
    },
    {
      "cell_type": "markdown",
      "source": [
        "In the below code snippet, I have created a CNN model with\n",
        "\n",
        "* hidden layers of convolution\n",
        "* hidden layers of max pooling\n",
        "* layer of flattening\n",
        "* Hidden ANN layer\n",
        "* output layer with 16-neurons (one for each face)"
      ],
      "metadata": {
        "id": "xjZxztI5kK38"
      }
    },
    {
      "cell_type": "code",
      "source": [
        "from keras.models import Sequential\n",
        "from keras.layers import Conv2D, MaxPool2D, Flatten, Dense"
      ],
      "metadata": {
        "id": "azjY6GBBkADU"
      },
      "execution_count": 13,
      "outputs": []
    },
    {
      "cell_type": "code",
      "source": [
        "'''Initializing the Convolutional Neural Network'''\n",
        "Model = Sequential()\n",
        "\n",
        "\n",
        "''' Convolution\n",
        "# Adding the first layer of CNN\n",
        "# we are using the format (100,100,3) because we are using TensorFlow backend\n",
        "# It means 3 matrix of size (100x100) pixels representing Red, Green and Blue components of pixels\n",
        "'''\n",
        "\n",
        "Model.add(Conv2D(16, kernel_size=(5,5), strides=(1,1), input_shape = (100,100,3),activation='relu'))\n",
        "\n",
        "'''# Maxplooing layer'''\n",
        "\n",
        "Model.add(MaxPool2D(pool_size=(2,2)))\n",
        "\n",
        "'''Adding additional layers  of convolution and\n",
        "        maxpooling for better model accuracy and performance'''\n",
        "\n",
        "Model.add(Conv2D(32,kernel_size=(3,3),strides=(1,1),activation='relu'))\n",
        "Model.add(MaxPool2D(pool_size=(2,2)))\n",
        "\n",
        "'''# Add a flatten layer to convert the vector to one dimensional'''\n",
        "Model.add(Flatten())\n",
        "\n",
        "'''Add dense layers and Initialize weights using\n",
        "                kernal initializer for better learing of image features and classification'''\n",
        "\n",
        "Model.add(Dense(64,activation='relu'))\n",
        "Model.add(Dense(Output_Neurons,activation='softmax'))\n",
        "\n",
        "'''Perform Model Compilation'''\n",
        "\n",
        "Model.compile(loss='categorical_crossentropy',optimizer = 'adam',metrics = ['Accuracy'])\n",
        "\n",
        "\n",
        "'''# Using Early stopping to reduce the training time'''\n",
        "\n",
        "from keras.callbacks import EarlyStopping\n",
        "call = EarlyStopping(\n",
        "                    min_delta=0.005,\n",
        "                    patience=5,\n",
        "                     verbose=1\n",
        "                    )\n",
        "\n",
        "import time\n",
        "# Measuring the time taken by the model to train\n",
        "StartTime=time.time()\n",
        "\n",
        "'''# Model Training'''\n",
        "Model.fit(training_data,\n",
        "          epochs = 30,\n",
        "          validation_data=testing_data,\n",
        "                   callbacks=call)\n",
        "\n",
        "Endtime = time.time()\n",
        "print('Total Training Time taken: ',round((Endtime-StartTime)/60),'Minutes')"
      ],
      "metadata": {
        "colab": {
          "base_uri": "https://localhost:8080/"
        },
        "id": "Vkr-ZFNBj77E",
        "outputId": "b61e2050-e31b-4f04-eda4-12d4ee8de929"
      },
      "execution_count": 15,
      "outputs": [
        {
          "output_type": "stream",
          "name": "stderr",
          "text": [
            "/usr/local/lib/python3.11/dist-packages/keras/src/layers/convolutional/base_conv.py:107: UserWarning: Do not pass an `input_shape`/`input_dim` argument to a layer. When using Sequential models, prefer using an `Input(shape)` object as the first layer in the model instead.\n",
            "  super().__init__(activity_regularizer=activity_regularizer, **kwargs)\n",
            "/usr/local/lib/python3.11/dist-packages/keras/src/trainers/data_adapters/py_dataset_adapter.py:121: UserWarning: Your `PyDataset` class should call `super().__init__(**kwargs)` in its constructor. `**kwargs` can include `workers`, `use_multiprocessing`, `max_queue_size`. Do not pass these arguments to `fit()`, as they will be ignored.\n",
            "  self._warn_if_super_not_called()\n"
          ]
        },
        {
          "output_type": "stream",
          "name": "stdout",
          "text": [
            "Epoch 1/30\n",
            "\u001b[1m9/9\u001b[0m \u001b[32m━━━━━━━━━━━━━━━━━━━━\u001b[0m\u001b[37m\u001b[0m \u001b[1m78s\u001b[0m 9s/step - Accuracy: 0.0539 - loss: 396.9370 - val_Accuracy: 0.0779 - val_loss: 63.8939\n",
            "Epoch 2/30\n",
            "\u001b[1m9/9\u001b[0m \u001b[32m━━━━━━━━━━━━━━━━━━━━\u001b[0m\u001b[37m\u001b[0m \u001b[1m4s\u001b[0m 497ms/step - Accuracy: 0.0932 - loss: 39.8363 - val_Accuracy: 0.2295 - val_loss: 4.6619\n",
            "Epoch 3/30\n",
            "\u001b[1m9/9\u001b[0m \u001b[32m━━━━━━━━━━━━━━━━━━━━\u001b[0m\u001b[37m\u001b[0m \u001b[1m3s\u001b[0m 377ms/step - Accuracy: 0.0789 - loss: 3.9293 - val_Accuracy: 0.1803 - val_loss: 2.3921\n",
            "Epoch 4/30\n",
            "\u001b[1m9/9\u001b[0m \u001b[32m━━━━━━━━━━━━━━━━━━━━\u001b[0m\u001b[37m\u001b[0m \u001b[1m5s\u001b[0m 401ms/step - Accuracy: 0.2020 - loss: 2.4876 - val_Accuracy: 0.4713 - val_loss: 1.7361\n",
            "Epoch 5/30\n",
            "\u001b[1m9/9\u001b[0m \u001b[32m━━━━━━━━━━━━━━━━━━━━\u001b[0m\u001b[37m\u001b[0m \u001b[1m4s\u001b[0m 484ms/step - Accuracy: 0.4072 - loss: 1.7528 - val_Accuracy: 0.7746 - val_loss: 0.9410\n",
            "Epoch 6/30\n",
            "\u001b[1m9/9\u001b[0m \u001b[32m━━━━━━━━━━━━━━━━━━━━\u001b[0m\u001b[37m\u001b[0m \u001b[1m4s\u001b[0m 404ms/step - Accuracy: 0.6945 - loss: 1.0694 - val_Accuracy: 0.8689 - val_loss: 0.4310\n",
            "Epoch 7/30\n",
            "\u001b[1m9/9\u001b[0m \u001b[32m━━━━━━━━━━━━━━━━━━━━\u001b[0m\u001b[37m\u001b[0m \u001b[1m4s\u001b[0m 393ms/step - Accuracy: 0.8477 - loss: 0.5495 - val_Accuracy: 0.9549 - val_loss: 0.1388\n",
            "Epoch 8/30\n",
            "\u001b[1m9/9\u001b[0m \u001b[32m━━━━━━━━━━━━━━━━━━━━\u001b[0m\u001b[37m\u001b[0m \u001b[1m5s\u001b[0m 393ms/step - Accuracy: 0.8671 - loss: 0.4623 - val_Accuracy: 0.9877 - val_loss: 0.0723\n",
            "Epoch 9/30\n",
            "\u001b[1m9/9\u001b[0m \u001b[32m━━━━━━━━━━━━━━━━━━━━\u001b[0m\u001b[37m\u001b[0m \u001b[1m4s\u001b[0m 400ms/step - Accuracy: 0.9614 - loss: 0.1774 - val_Accuracy: 0.9877 - val_loss: 0.0495\n",
            "Epoch 10/30\n",
            "\u001b[1m9/9\u001b[0m \u001b[32m━━━━━━━━━━━━━━━━━━━━\u001b[0m\u001b[37m\u001b[0m \u001b[1m5s\u001b[0m 574ms/step - Accuracy: 0.9400 - loss: 0.1498 - val_Accuracy: 0.9959 - val_loss: 0.0304\n",
            "Epoch 11/30\n",
            "\u001b[1m9/9\u001b[0m \u001b[32m━━━━━━━━━━━━━━━━━━━━\u001b[0m\u001b[37m\u001b[0m \u001b[1m4s\u001b[0m 406ms/step - Accuracy: 0.9795 - loss: 0.0852 - val_Accuracy: 1.0000 - val_loss: 0.0122\n",
            "Epoch 12/30\n",
            "\u001b[1m9/9\u001b[0m \u001b[32m━━━━━━━━━━━━━━━━━━━━\u001b[0m\u001b[37m\u001b[0m \u001b[1m4s\u001b[0m 394ms/step - Accuracy: 0.9893 - loss: 0.0326 - val_Accuracy: 1.0000 - val_loss: 0.0037\n",
            "Epoch 13/30\n",
            "\u001b[1m9/9\u001b[0m \u001b[32m━━━━━━━━━━━━━━━━━━━━\u001b[0m\u001b[37m\u001b[0m \u001b[1m5s\u001b[0m 568ms/step - Accuracy: 0.9905 - loss: 0.0378 - val_Accuracy: 1.0000 - val_loss: 0.0023\n",
            "Epoch 14/30\n",
            "\u001b[1m9/9\u001b[0m \u001b[32m━━━━━━━━━━━━━━━━━━━━\u001b[0m\u001b[37m\u001b[0m \u001b[1m3s\u001b[0m 379ms/step - Accuracy: 0.9891 - loss: 0.0346 - val_Accuracy: 0.9877 - val_loss: 0.0243\n",
            "Epoch 15/30\n",
            "\u001b[1m9/9\u001b[0m \u001b[32m━━━━━━━━━━━━━━━━━━━━\u001b[0m\u001b[37m\u001b[0m \u001b[1m4s\u001b[0m 408ms/step - Accuracy: 0.9987 - loss: 0.0232 - val_Accuracy: 1.0000 - val_loss: 0.0094\n",
            "Epoch 16/30\n",
            "\u001b[1m9/9\u001b[0m \u001b[32m━━━━━━━━━━━━━━━━━━━━\u001b[0m\u001b[37m\u001b[0m \u001b[1m5s\u001b[0m 537ms/step - Accuracy: 0.9962 - loss: 0.0126 - val_Accuracy: 1.0000 - val_loss: 0.0242\n",
            "Epoch 17/30\n",
            "\u001b[1m9/9\u001b[0m \u001b[32m━━━━━━━━━━━━━━━━━━━━\u001b[0m\u001b[37m\u001b[0m \u001b[1m3s\u001b[0m 382ms/step - Accuracy: 0.9869 - loss: 0.0339 - val_Accuracy: 1.0000 - val_loss: 0.0015\n",
            "Epoch 17: early stopping\n",
            "Total Training Time taken:  3 Minutes\n"
          ]
        }
      ]
    },
    {
      "cell_type": "markdown",
      "source": [
        "**Using the Classifier to make predictions on unseen test images**"
      ],
      "metadata": {
        "id": "BnXGF9Tqm-5M"
      }
    },
    {
      "cell_type": "code",
      "source": [
        "import numpy as np\n",
        "from keras.preprocessing import image\n",
        "import os\n",
        "import glob"
      ],
      "metadata": {
        "id": "rBUijiOInAUA"
      },
      "execution_count": 33,
      "outputs": []
    },
    {
      "cell_type": "code",
      "source": [
        "# Path to the folder containing test images\n",
        "test_images_path = \"/content/drive/MyDrive/Face Images/Final Testing Images\""
      ],
      "metadata": {
        "id": "f2oZvovpnDJr"
      },
      "execution_count": 34,
      "outputs": []
    },
    {
      "cell_type": "code",
      "source": [
        "# Load the mapping of class labels to names\n",
        "with open('/content/drive/MyDrive/Face Images/FinalMap.pkl', 'rb') as Final_mapping:\n",
        "    Result_class = pickle.load(Final_mapping)\n"
      ],
      "metadata": {
        "id": "L4gQOMWcoBDU"
      },
      "execution_count": 35,
      "outputs": []
    },
    {
      "cell_type": "code",
      "source": [
        "'''########### Making single predictions ###########'''\n",
        "\n",
        "ImagePath=\"/content/drive/MyDrive/Face Images/Final Testing Images/face10/1face10.jpg\"\n",
        "test_image=image.load_img(ImagePath,target_size=(100, 100))\n",
        "test_image=image.img_to_array(test_image)\n",
        "\n",
        "test_image=np.expand_dims(test_image,axis=0)\n",
        "\n",
        "result=Model.predict(test_image,verbose=0)\n",
        "#print(training_set.class_indices)\n",
        "\n",
        "print('####'*10)\n",
        "print('Prediction is: ',Result_class[np.argmax(result)])"
      ],
      "metadata": {
        "colab": {
          "base_uri": "https://localhost:8080/"
        },
        "id": "FNJtGMv1pkOS",
        "outputId": "a86d061f-0ce4-4f9c-fd58-7d44e033ab4e"
      },
      "execution_count": 36,
      "outputs": [
        {
          "output_type": "stream",
          "name": "stdout",
          "text": [
            "########################################\n",
            "Prediction is:  face10\n"
          ]
        }
      ]
    },
    {
      "cell_type": "code",
      "source": [
        "import matplotlib.pyplot as plt\n",
        "import numpy as np\n",
        "from keras.preprocessing import image\n",
        "\n",
        "# Load the mapping of class labels to names\n",
        "with open('/content/drive/MyDrive/Face Images/FinalMap.pkl', 'rb') as Final_mapping:\n",
        "    Result_class = pickle.load(Final_mapping)\n",
        "\n",
        "# Path to the image\n",
        "ImagePath = \"/content/drive/MyDrive/Face Images/Final Testing Images/face10/1face10.jpg\"\n",
        "\n",
        "# Load and preprocess the image\n",
        "test_image = image.load_img(ImagePath, target_size=(100, 100))\n",
        "test_image_array = image.img_to_array(test_image)  # Keep original image for display\n",
        "test_image_array = np.expand_dims(test_image_array, axis=0)\n",
        "\n",
        "# Make prediction\n",
        "result = Model.predict(test_image_array, verbose=0)\n",
        "predicted_label = Result_class[np.argmax(result)]\n",
        "\n",
        "# Display the image and prediction\n",
        "plt.imshow(test_image)  # Display the actual image\n",
        "plt.title(f\"Prediction: {predicted_label}\")  # Set title with prediction\n",
        "plt.axis('off')  # Hide axes\n",
        "plt.show()"
      ],
      "metadata": {
        "colab": {
          "base_uri": "https://localhost:8080/",
          "height": 428
        },
        "id": "-n3SXArGv0QV",
        "outputId": "c7a0e483-0dbf-4af9-c80b-f483376913dd"
      },
      "execution_count": 37,
      "outputs": [
        {
          "output_type": "display_data",
          "data": {
            "text/plain": [
              "<Figure size 640x480 with 1 Axes>"
            ],
            "image/png": "[encoded data removed]"
          },
          "metadata": {}
        }
      ]
    },
    {
      "cell_type": "code",
      "source": [
        "import numpy as np\n",
        "from keras.preprocessing import image\n",
        "import os\n",
        "import glob\n",
        "from sklearn.metrics import accuracy_score, precision_score, recall_score, f1_score, confusion_matrix\n",
        "\n",
        "# Path to the folder containing test images\n",
        "test_images_path = \"/content/drive/MyDrive/Face Images/Final Testing Images\"\n",
        "\n",
        "# Load the mapping of class labels to names\n",
        "with open('/content/drive/MyDrive/Face Images/FinalMap.pkl', 'rb') as Final_mapping:\n",
        "    Result_class = pickle.load(Final_mapping)\n",
        "\n",
        "# Initialize lists to store true and predicted labels\n",
        "y_true = []\n",
        "y_pred = []\n",
        "\n",
        "## Loading all the image paths from final testing folder for prediction\n",
        "main_ = \"/content/drive/MyDrive/Face Images/Final Testing Images\"\n",
        "img_paths = glob.glob(os.path.join(main_, '**', '*.jpg'))\n",
        "\n",
        "for path in img_paths:\n",
        "    # Extract true label from image path (assuming folder structure represents labels)\n",
        "    true_label = os.path.basename(os.path.dirname(path))\n",
        "    y_true.append(true_label)\n",
        "\n",
        "    # Load and preprocess image\n",
        "    test_image = image.load_img(path, target_size=(100, 100))\n",
        "    test_image = image.img_to_array(test_image)\n",
        "    test_image = np.expand_dims(test_image, axis=0)\n",
        "\n",
        "    # Make prediction\n",
        "    result = Model.predict(test_image, verbose=0)\n",
        "    predicted_label = Result_class[np.argmax(result)]\n",
        "    y_pred.append(predicted_label)\n",
        "\n",
        "# Calculate and print metrics\n",
        "accuracy = accuracy_score(y_true, y_pred)\n",
        "print(f\"Accuracy: {accuracy:.4f}\")\n",
        "\n",
        "precision = precision_score(y_true, y_pred, average='weighted')\n",
        "print(f\"Precision: {precision:.4f}\")\n",
        "\n",
        "recall = recall_score(y_true, y_pred, average='weighted')\n",
        "print(f\"Recall: {recall:.4f}\")\n",
        "\n",
        "f1 = f1_score(y_true, y_pred, average='weighted')\n",
        "print(f\"F1-score: {f1:.4f}\")\n",
        "\n",
        "cm = confusion_matrix(y_true, y_pred)\n",
        "print(\"Confusion Matrix:\")\n",
        "print(cm)"
      ],
      "metadata": {
        "colab": {
          "base_uri": "https://localhost:8080/"
        },
        "id": "2sHZE0aJsT6q",
        "outputId": "502875f1-c3d5-4395-f1e9-8af6b91799ba"
      },
      "execution_count": 28,
      "outputs": [
        {
          "output_type": "stream",
          "name": "stdout",
          "text": [
            "Accuracy: 0.9844\n",
            "Precision: 0.9875\n",
            "Recall: 0.9844\n",
            "F1-score: 0.9841\n",
            "Confusion Matrix:\n",
            "[[4 0 0 0 0 0 0 0 0 0 0 0 0 0 0 0]\n",
            " [0 4 0 0 0 0 0 0 0 0 0 0 0 0 0 0]\n",
            " [0 0 4 0 0 0 0 0 0 0 0 0 0 0 0 0]\n",
            " [0 0 0 4 0 0 0 0 0 0 0 0 0 0 0 0]\n",
            " [0 0 0 0 4 0 0 0 0 0 0 0 0 0 0 0]\n",
            " [0 0 0 0 0 4 0 0 0 0 0 0 0 0 0 0]\n",
            " [0 0 0 0 0 0 4 0 0 0 0 0 0 0 0 0]\n",
            " [0 0 0 0 0 0 0 4 0 0 0 0 0 0 0 0]\n",
            " [0 0 0 0 0 0 0 0 4 0 0 0 0 0 0 0]\n",
            " [0 0 0 0 0 0 0 0 0 4 0 0 0 0 0 0]\n",
            " [0 0 0 0 0 0 0 0 0 0 4 0 0 0 0 0]\n",
            " [0 0 0 0 0 0 0 0 0 0 0 4 0 0 0 0]\n",
            " [0 0 0 0 0 0 0 0 0 0 0 0 4 0 0 0]\n",
            " [0 0 0 0 0 0 0 0 0 0 0 0 0 4 0 0]\n",
            " [0 0 0 0 0 0 0 0 0 0 1 0 0 0 3 0]\n",
            " [0 0 0 0 0 0 0 0 0 0 0 0 0 0 0 4]]\n"
          ]
        }
      ]
    },
    {
      "cell_type": "code",
      "source": [
        "import seaborn as sns\n",
        "sns.heatmap(cm, annot=True)"
      ],
      "metadata": {
        "colab": {
          "base_uri": "https://localhost:8080/",
          "height": 452
        },
        "id": "TT3fVlTks5i6",
        "outputId": "96e5052b-200d-4d88-9c1f-36ce0ac02a79"
      },
      "execution_count": 26,
      "outputs": [
        {
          "output_type": "execute_result",
          "data": {
            "text/plain": [
              "<Axes: >"
            ]
          },
          "metadata": {},
          "execution_count": 26
        },
        {
          "output_type": "display_data",
          "data": {
            "text/plain": [
              "<Figure size 640x480 with 2 Axes>"
            ],
            "image/png": "[encoded data removed]"
          },
          "metadata": {}
        }
      ]
    }
  ]
}